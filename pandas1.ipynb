{
 "cells": [
  {
   "cell_type": "code",
   "execution_count": 3,
   "id": "77a5f092-6bde-4dc6-bf64-d539244b90a3",
   "metadata": {},
   "outputs": [],
   "source": [
    "#first install pandas in our system using pip\n",
    "#!pip install pandas"
   ]
  },
  {
   "cell_type": "code",
   "execution_count": 7,
   "id": "5392e515-05c3-4aff-9349-d13a9663e06d",
   "metadata": {},
   "outputs": [],
   "source": [
    "import pandas as pd\n",
    "#pd user defined alias name\n",
    "import numpy as np"
   ]
  },
  {
   "cell_type": "code",
   "execution_count": 11,
   "id": "6c010069-af5e-4109-a64b-ab6beaacd9e7",
   "metadata": {},
   "outputs": [
    {
     "name": "stdout",
     "output_type": "stream",
     "text": [
      "[45 67 89 98 67 54 43 32 76 90]\n",
      "<class 'numpy.ndarray'>\n"
     ]
    }
   ],
   "source": [
    "#create a series  with the help of 1 D numpy array\n",
    "#first create a 1D numpy array a\n",
    "a=np.array([45,67,89,98,67,54,43,32,76,90 ])\n",
    "print(a)\n",
    "print(type(a))"
   ]
  },
  {
   "cell_type": "code",
   "execution_count": 13,
   "id": "dcc89eea-88a3-4689-97fd-8797ccfae9af",
   "metadata": {},
   "outputs": [
    {
     "name": "stdout",
     "output_type": "stream",
     "text": [
      "0    45\n",
      "1    67\n",
      "2    89\n",
      "3    98\n",
      "4    67\n",
      "5    54\n",
      "6    43\n",
      "7    32\n",
      "8    76\n",
      "9    90\n",
      "dtype: int32\n"
     ]
    }
   ],
   "source": [
    "#convert 1D numpy array into Series \n",
    "x=pd.Series(a)\n",
    "print(x)"
   ]
  },
  {
   "cell_type": "code",
   "execution_count": 15,
   "id": "963fe913-efb9-4391-92db-2aacd09897bb",
   "metadata": {},
   "outputs": [
    {
     "data": {
      "text/plain": [
       "pandas.core.series.Series"
      ]
     },
     "execution_count": 15,
     "metadata": {},
     "output_type": "execute_result"
    }
   ],
   "source": [
    "#to show datatype of Series x\n",
    "type(x)"
   ]
  },
  {
   "cell_type": "code",
   "execution_count": 17,
   "id": "754a45e3-960f-4555-aa92-9adaedf10ffb",
   "metadata": {},
   "outputs": [
    {
     "data": {
      "text/plain": [
       "(10,)"
      ]
     },
     "execution_count": 17,
     "metadata": {},
     "output_type": "execute_result"
    }
   ],
   "source": [
    "#To show how many rows and columns , use inbuilt attributes shape of pandas library\n",
    "x.shape   #(10,) means 10 rows means 10 records but column 1"
   ]
  },
  {
   "cell_type": "code",
   "execution_count": null,
   "id": "9c1a8914-6f64-4b24-a5cb-d0768d5a3d62",
   "metadata": {},
   "outputs": [],
   "source": [
    "#Extract data from inbuilt Series , use different methods :-\n",
    "#1. Through indexing\n",
    "#2. Through Slicing\n",
    "#3. Through Conditional filtering"
   ]
  },
  {
   "cell_type": "code",
   "execution_count": 19,
   "id": "26f4c2d4-c909-4038-a775-b7d237378375",
   "metadata": {},
   "outputs": [
    {
     "name": "stdout",
     "output_type": "stream",
     "text": [
      "0    45\n",
      "1    67\n",
      "2    89\n",
      "3    98\n",
      "4    67\n",
      "5    54\n",
      "6    43\n",
      "7    32\n",
      "8    76\n",
      "9    90\n",
      "dtype: int32\n"
     ]
    }
   ],
   "source": [
    "print(x)"
   ]
  },
  {
   "cell_type": "code",
   "execution_count": 21,
   "id": "201e0ea9-c8c6-406e-a6c1-c274330bb04f",
   "metadata": {},
   "outputs": [
    {
     "data": {
      "text/plain": [
       "98"
      ]
     },
     "execution_count": 21,
     "metadata": {},
     "output_type": "execute_result"
    }
   ],
   "source": [
    "#To extract data at 3td index means retrieve 4th element means 3rd index\n",
    "x[3]"
   ]
  },
  {
   "cell_type": "code",
   "execution_count": 23,
   "id": "6a65a574-83a2-492b-945a-c135076a9da9",
   "metadata": {},
   "outputs": [
    {
     "data": {
      "text/plain": [
       "2    89\n",
       "4    67\n",
       "8    76\n",
       "dtype: int32"
      ]
     },
     "execution_count": 23,
     "metadata": {},
     "output_type": "execute_result"
    }
   ],
   "source": [
    "#to extract element from multiple indexes\n",
    "#suppose we want to access  3rd element(2nd index) , 5th element(4th index) \n",
    "#and 9th element(8th index)\n",
    "x[[2,4,8]]"
   ]
  },
  {
   "cell_type": "code",
   "execution_count": 25,
   "id": "69faefb7-d827-45d9-a7ef-be8bbfcf2a1c",
   "metadata": {},
   "outputs": [
    {
     "data": {
      "text/plain": [
       "2    89\n",
       "3    98\n",
       "4    67\n",
       "5    54\n",
       "6    43\n",
       "7    32\n",
       "dtype: int32"
      ]
     },
     "execution_count": 25,
     "metadata": {},
     "output_type": "execute_result"
    }
   ],
   "source": [
    "#2. Through Slicing\n",
    "#start index:stop index:step \n",
    "#suppose we want to retrieve element from 2nd index to 7th index means \n",
    "#extract element at 2nd index,3rd index,4th index,5th index,6th index ,7th index\n",
    "x[2:8] #start index =2 stop index=8-1=7 step=+1 by default if not given"
   ]
  },
  {
   "cell_type": "code",
   "execution_count": 27,
   "id": "415d7b03-3199-4e7d-a562-e6cb09a59af9",
   "metadata": {},
   "outputs": [
    {
     "name": "stdout",
     "output_type": "stream",
     "text": [
      "0    45\n",
      "1    67\n",
      "2    89\n",
      "3    98\n",
      "4    67\n",
      "5    54\n",
      "6    43\n",
      "7    32\n",
      "8    76\n",
      "9    90\n",
      "dtype: int32\n"
     ]
    }
   ],
   "source": [
    "print(x)"
   ]
  },
  {
   "cell_type": "code",
   "execution_count": 29,
   "id": "7de3cdff-f2fe-45a7-a697-57a95bbe00dc",
   "metadata": {},
   "outputs": [
    {
     "data": {
      "text/plain": [
       "0    45\n",
       "1    67\n",
       "2    89\n",
       "3    98\n",
       "4    67\n",
       "dtype: int32"
      ]
     },
     "execution_count": 29,
     "metadata": {},
     "output_type": "execute_result"
    }
   ],
   "source": [
    "#To extract first 5 elements from existing Series x \n",
    "x[0:5]  #start index=0  stop index=5-1=4  step=+1"
   ]
  },
  {
   "cell_type": "code",
   "execution_count": 31,
   "id": "0154c8c1-4ce4-44c9-85c9-e41585a02c09",
   "metadata": {},
   "outputs": [
    {
     "data": {
      "text/plain": [
       "0    45\n",
       "1    67\n",
       "2    89\n",
       "3    98\n",
       "4    67\n",
       "dtype: int32"
      ]
     },
     "execution_count": 31,
     "metadata": {},
     "output_type": "execute_result"
    }
   ],
   "source": [
    "#Or\n",
    "x[:5]  #start index=0 if didnot given stop=5-1=4 step=+1"
   ]
  },
  {
   "cell_type": "code",
   "execution_count": 33,
   "id": "80865b8c-31b7-4f8b-a602-6d3bd4224600",
   "metadata": {},
   "outputs": [
    {
     "data": {
      "text/plain": [
       "0    45\n",
       "1    67\n",
       "2    89\n",
       "3    98\n",
       "4    67\n",
       "dtype: int32"
      ]
     },
     "execution_count": 33,
     "metadata": {},
     "output_type": "execute_result"
    }
   ],
   "source": [
    "#or head() inbuilt method of pandas library , it is used to show first 5 records from\n",
    "#given Series x\n",
    "x.head() #bydefault 5 records "
   ]
  },
  {
   "cell_type": "code",
   "execution_count": 35,
   "id": "8231f0d2-f249-4b60-a1d8-9d3ae223ab15",
   "metadata": {},
   "outputs": [
    {
     "data": {
      "text/plain": [
       "0    45\n",
       "1    67\n",
       "2    89\n",
       "3    98\n",
       "4    67\n",
       "5    54\n",
       "6    43\n",
       "dtype: int32"
      ]
     },
     "execution_count": 35,
     "metadata": {},
     "output_type": "execute_result"
    }
   ],
   "source": [
    "#to show first 7 records from given Series x\n",
    "x.head(7)"
   ]
  },
  {
   "cell_type": "code",
   "execution_count": 37,
   "id": "15c5bb7c-91ec-4e0f-8a67-3e180e5d89e1",
   "metadata": {},
   "outputs": [
    {
     "name": "stdout",
     "output_type": "stream",
     "text": [
      "0    45\n",
      "1    67\n",
      "2    89\n",
      "3    98\n",
      "4    67\n",
      "5    54\n",
      "6    43\n",
      "7    32\n",
      "8    76\n",
      "9    90\n",
      "dtype: int32\n"
     ]
    }
   ],
   "source": [
    "print(x)"
   ]
  },
  {
   "cell_type": "code",
   "execution_count": 41,
   "id": "33f10bae-3569-4382-b8bd-255de7f83624",
   "metadata": {},
   "outputs": [
    {
     "data": {
      "text/plain": [
       "9    90\n",
       "dtype: int32"
      ]
     },
     "execution_count": 41,
     "metadata": {},
     "output_type": "execute_result"
    }
   ],
   "source": [
    "#Access last element from existing Series x\n",
    "x[-1:]"
   ]
  },
  {
   "cell_type": "code",
   "execution_count": 43,
   "id": "7973381a-ff07-49aa-b0f7-e31b86fe9740",
   "metadata": {},
   "outputs": [
    {
     "data": {
      "text/plain": [
       "5    54\n",
       "6    43\n",
       "7    32\n",
       "8    76\n",
       "9    90\n",
       "dtype: int32"
      ]
     },
     "execution_count": 43,
     "metadata": {},
     "output_type": "execute_result"
    }
   ],
   "source": [
    "#Access last 5 elements from existing Series x\n",
    "x[-5:]  #start index=-5 stop index=till end and step=+1"
   ]
  },
  {
   "cell_type": "code",
   "execution_count": 45,
   "id": "5b2f2186-0818-4f6b-a591-e71caa7cbaf6",
   "metadata": {},
   "outputs": [
    {
     "data": {
      "text/plain": [
       "5    54\n",
       "6    43\n",
       "7    32\n",
       "8    76\n",
       "9    90\n",
       "dtype: int32"
      ]
     },
     "execution_count": 45,
     "metadata": {},
     "output_type": "execute_result"
    }
   ],
   "source": [
    "#use inbuilt method tail() of pandas library \n",
    "#Access last 5 elements from existing Series x\n",
    "x.tail() #bydefault last 5 elements"
   ]
  },
  {
   "cell_type": "code",
   "execution_count": 47,
   "id": "d2a04d80-fc5d-4833-bd8b-0e1207b8d79e",
   "metadata": {},
   "outputs": [
    {
     "data": {
      "text/plain": [
       "7    32\n",
       "8    76\n",
       "9    90\n",
       "dtype: int32"
      ]
     },
     "execution_count": 47,
     "metadata": {},
     "output_type": "execute_result"
    }
   ],
   "source": [
    "#Access last 3 elements from existing Series x\n",
    "x.tail(3)"
   ]
  },
  {
   "cell_type": "code",
   "execution_count": 49,
   "id": "634e22cc-2263-4448-b6fe-6275fc18f4c7",
   "metadata": {},
   "outputs": [
    {
     "name": "stdout",
     "output_type": "stream",
     "text": [
      "0    45\n",
      "1    67\n",
      "2    89\n",
      "3    98\n",
      "4    67\n",
      "5    54\n",
      "6    43\n",
      "7    32\n",
      "8    76\n",
      "9    90\n",
      "dtype: int32\n"
     ]
    }
   ],
   "source": [
    "print(x)"
   ]
  },
  {
   "cell_type": "code",
   "execution_count": 51,
   "id": "693cbfde-6a48-4754-a71c-c0a1e14ced2d",
   "metadata": {},
   "outputs": [
    {
     "name": "stdout",
     "output_type": "stream",
     "text": [
      "rno            110\n",
      "name    Anu pandey\n",
      "age             21\n",
      "City        Indore\n",
      "dtype: object\n"
     ]
    }
   ],
   "source": [
    "#create a dictionary of a student\n",
    "dic={'rno':110,'name':'Anu pandey','age':21,'City':'Indore'}\n",
    "#create Series with the help of dictionary\n",
    "student=pd.Series(dic)\n",
    "print(student)"
   ]
  },
  {
   "cell_type": "code",
   "execution_count": 53,
   "id": "ca83250d-e224-4bc3-b592-056128c74309",
   "metadata": {},
   "outputs": [
    {
     "data": {
      "text/plain": [
       "'Anu pandey'"
      ]
     },
     "execution_count": 53,
     "metadata": {},
     "output_type": "execute_result"
    }
   ],
   "source": [
    "#access name of student\n",
    "student['name']"
   ]
  },
  {
   "cell_type": "code",
   "execution_count": 59,
   "id": "2ef30bfe-890e-4c29-af17-a5d97a22c24c",
   "metadata": {},
   "outputs": [
    {
     "data": {
      "text/plain": [
       "name    Anu pandey\n",
       "City        Indore\n",
       "dtype: object"
      ]
     },
     "execution_count": 59,
     "metadata": {},
     "output_type": "execute_result"
    }
   ],
   "source": [
    "#access name and city of student\n",
    "student[['name','City']]"
   ]
  }
 ],
 "metadata": {
  "kernelspec": {
   "display_name": "Python 3 (ipykernel)",
   "language": "python",
   "name": "python3"
  },
  "language_info": {
   "codemirror_mode": {
    "name": "ipython",
    "version": 3
   },
   "file_extension": ".py",
   "mimetype": "text/x-python",
   "name": "python",
   "nbconvert_exporter": "python",
   "pygments_lexer": "ipython3",
   "version": "3.12.4"
  }
 },
 "nbformat": 4,
 "nbformat_minor": 5
}
